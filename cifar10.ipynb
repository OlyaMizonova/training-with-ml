{
  "nbformat": 4,
  "nbformat_minor": 0,
  "metadata": {
    "colab": {
      "provenance": [],
      "gpuType": "T4",
      "authorship_tag": "ABX9TyP1IpyN3NuObnPllXEHx+tZ",
      "include_colab_link": true
    },
    "kernelspec": {
      "name": "python3",
      "display_name": "Python 3"
    },
    "language_info": {
      "name": "python"
    },
    "accelerator": "GPU"
  },
  "cells": [
    {
      "cell_type": "markdown",
      "metadata": {
        "id": "view-in-github",
        "colab_type": "text"
      },
      "source": [
        "<a href=\"https://colab.research.google.com/github/OlyaMizonova/training-with-ml/blob/main/cifar10.ipynb\" target=\"_parent\"><img src=\"https://colab.research.google.com/assets/colab-badge.svg\" alt=\"Open In Colab\"/></a>"
      ]
    },
    {
      "cell_type": "code",
      "execution_count": null,
      "metadata": {
        "id": "E4xbjI4rS3za"
      },
      "outputs": [],
      "source": [
        "import numpy as np\n",
        "import pandas as pd\n",
        "import matplotlib.pyplot as plt\n",
        "\n",
        "import torch\n",
        "import torch.nn as nn\n",
        "import torch.nn.functional as F\n",
        "import torch.utils.data\n",
        "from torch.autograd import Variable\n",
        "import torch.optim as optim\n",
        "\n",
        "from sklearn.model_selection import train_test_split\n",
        "from sklearn.metrics import classification_report"
      ]
    },
    {
      "cell_type": "code",
      "source": [
        "def unpickle(file):\n",
        "    import pickle\n",
        "    with open(file, 'rb') as fo:\n",
        "        dict = pickle.load(fo, encoding='bytes')\n",
        "    return dict"
      ],
      "metadata": {
        "id": "SEZCRYzpbzx1"
      },
      "execution_count": null,
      "outputs": []
    },
    {
      "cell_type": "code",
      "source": [
        "def toDF(filename):\n",
        "  diction=unpickle(filename)\n",
        "  del diction[b'batch_label']\n",
        "  del diction[b'filenames']\n",
        "  diction['labels'] = diction[b'labels']\n",
        "  del diction[b'labels']\n",
        "  diction['data'] = diction[b'data']\n",
        "  del diction[b'data']\n",
        "  df1=pd.DataFrame(diction['data'])\n",
        "  df2=pd.DataFrame(diction['labels'])\n",
        "  df2=df2.rename(columns={0:'type'})\n",
        "  df=pd.concat([df1,df2],axis=1)\n",
        "  return df"
      ],
      "metadata": {
        "id": "AmxZ63GYE0HE"
      },
      "execution_count": null,
      "outputs": []
    },
    {
      "cell_type": "code",
      "source": [
        "df1=toDF('data_batch_1')\n",
        "df2=toDF('data_batch_2')\n",
        "df3=toDF('data_batch_3')\n",
        "df4=toDF('data_batch_4')\n",
        "df5=toDF('data_batch_5')\n",
        "dfTest=toDF('test_batch')"
      ],
      "metadata": {
        "collapsed": true,
        "id": "_pbWXw8OhzR0"
      },
      "execution_count": null,
      "outputs": []
    },
    {
      "cell_type": "code",
      "source": [
        "df=df1\n",
        "#df=pd.concat([df1,df2,df3,df4,df5],axis=0)"
      ],
      "metadata": {
        "id": "_VZL9eSdIyfU"
      },
      "execution_count": null,
      "outputs": []
    },
    {
      "cell_type": "code",
      "source": [
        "from sklearn.preprocessing import OneHotEncoder\n",
        "encoder = OneHotEncoder()\n",
        "encoded_categories = encoder.fit_transform(df[['type']]).toarray()\n",
        "encoder1 = OneHotEncoder()\n",
        "encoded_categories1 = encoder1.fit_transform(dfTest[['type']]).toarray()"
      ],
      "metadata": {
        "id": "qT97mM4Gcwpn"
      },
      "execution_count": null,
      "outputs": []
    },
    {
      "cell_type": "code",
      "source": [
        "encoded_df = pd.DataFrame(encoded_categories, columns=('airplane','automobile','bird','cat','deer','dog','frog','horse','ship','truck'))\n",
        "encoded_df1 = pd.DataFrame(encoded_categories1, columns=('airplane','automobile','bird','cat','deer','dog','frog','horse','ship','truck'))"
      ],
      "metadata": {
        "id": "aqIpuffgdUL0"
      },
      "execution_count": null,
      "outputs": []
    },
    {
      "cell_type": "code",
      "source": [
        "df=df.drop(['type'],axis=1)\n",
        "dfTest=dfTest.drop(['type'],axis=1)"
      ],
      "metadata": {
        "id": "5ArA9Xyae6lF"
      },
      "execution_count": null,
      "outputs": []
    },
    {
      "cell_type": "code",
      "source": [
        "def imag(arr):\n",
        "  width = 32\n",
        "  height = 32\n",
        "  channels = 3\n",
        "  img = np.zeros((height, width, channels), dtype=np.uint8)\n",
        "  i=0\n",
        "  for y in range(img.shape[0]):\n",
        "    for x in range(img.shape[1]):\n",
        "      img[y][x][0] = arr[i]\n",
        "      img[y][x][1] = arr[i+1024]\n",
        "      img[y][x][2] = arr[i+2048]\n",
        "      i+=1\n",
        "  plt.figure(figsize=(2,2))\n",
        "  plt.imshow(img)\n",
        "  plt.axis('off')\n",
        "  plt.show()"
      ],
      "metadata": {
        "id": "DTKaM8Q2M8zs"
      },
      "execution_count": null,
      "outputs": []
    },
    {
      "cell_type": "code",
      "source": [
        "imag(df.iloc[331].to_numpy())"
      ],
      "metadata": {
        "colab": {
          "base_uri": "https://localhost:8080/",
          "height": 191
        },
        "id": "aEC6eRLwwh5r",
        "outputId": "25f26107-f749-47da-cfde-b9258d993ceb"
      },
      "execution_count": null,
      "outputs": [
        {
          "output_type": "display_data",
          "data": {
            "text/plain": [
              "<Figure size 200x200 with 1 Axes>"
            ],
            "image/png": "[encoded data removed]"
          },
          "metadata": {}
        }
      ]
    },
    {
      "cell_type": "code",
      "source": [
        "Y_train = encoded_df.values #метки классов\n",
        "X_train = df.values\n",
        "Y_test = encoded_df1.values #метки классов\n",
        "X_test = dfTest.values"
      ],
      "metadata": {
        "id": "Phf0IBy8zASH"
      },
      "execution_count": null,
      "outputs": []
    },
    {
      "cell_type": "code",
      "source": [
        "BATCH_SIZE = 32\n",
        "torch_X_train = torch.from_numpy(X_train).type(torch.LongTensor)\n",
        "torch_Y_train = torch.from_numpy(Y_train).type(torch.LongTensor) # data type is long\n",
        "\n",
        "# create feature and targets tensor for test set.\n",
        "torch_X_test = torch.from_numpy(X_test).type(torch.LongTensor)\n",
        "torch_Y_test = torch.from_numpy(Y_test).type(torch.LongTensor) # data type is long\n",
        "\n",
        "# Pytorch train and test sets\n",
        "train = torch.utils.data.TensorDataset(torch_X_train,torch_Y_train)\n",
        "test = torch.utils.data.TensorDataset(torch_X_test,torch_Y_test)\n",
        "\n",
        "# data loader\n",
        "train_loader = torch.utils.data.DataLoader(train, batch_size = BATCH_SIZE, shuffle = False)\n",
        "test_loader = torch.utils.data.DataLoader(test, batch_size = BATCH_SIZE, shuffle = False)"
      ],
      "metadata": {
        "id": "cySE0H5dzaHJ"
      },
      "execution_count": null,
      "outputs": []
    },
    {
      "cell_type": "code",
      "source": [
        "torch_X_train = torch_X_train.view(-1, 3, 32,32).float()#я понимаю что делает view,\n",
        "torch_X_test = torch_X_test.view(-1,3,32,32).float()#но не понимаю, какие у нас тут должны быть новые размеры :(\n",
        "# print(torch_X_train.shape)\n",
        "# print(torch_X_test.shape)\n",
        "# print(torch_Y_train.shape)\n",
        "# print(torch_Y_test.shape)"
      ],
      "metadata": {
        "colab": {
          "base_uri": "https://localhost:8080/"
        },
        "id": "kNgFm8s6ABWl",
        "outputId": "5b6703d1-5ca1-4110-c3d5-2cf3d3122ecf"
      },
      "execution_count": null,
      "outputs": [
        {
          "output_type": "stream",
          "name": "stdout",
          "text": [
            "torch.Size([10000, 3, 32, 32])\n",
            "torch.Size([10000, 3, 32, 32])\n",
            "torch.Size([10000, 10])\n",
            "torch.Size([10000, 10])\n"
          ]
        }
      ]
    },
    {
      "cell_type": "code",
      "source": [
        "train = torch.utils.data.TensorDataset(torch_X_train,torch_Y_train)\n",
        "test = torch.utils.data.TensorDataset(torch_X_test,torch_Y_test)\n",
        "\n",
        "train_loader = torch.utils.data.DataLoader(train, batch_size = BATCH_SIZE, shuffle = False)\n",
        "test_loader = torch.utils.data.DataLoader(test, batch_size = BATCH_SIZE, shuffle = False)"
      ],
      "metadata": {
        "id": "9FHwbnYHevW9"
      },
      "execution_count": null,
      "outputs": []
    },
    {
      "cell_type": "code",
      "source": [
        "class BasicBlock(nn.Module):\n",
        "    def __init__(self, in_channels, out_channels, stride=1):\n",
        "        super(BasicBlock, self).__init__()\n",
        "        self.conv1 = nn.Conv2d(in_channels, out_channels, kernel_size=3, stride=stride, padding=1, bias=False)#change kernel size from 3 to 4\n",
        "        self.bn1 = nn.BatchNorm2d(out_channels)\n",
        "        self.relu = nn.ReLU(inplace=True)\n",
        "        self.conv2 = nn.Conv2d(out_channels, out_channels, kernel_size=3, stride=1, padding=1, bias=False)\n",
        "        self.bn2 = nn.BatchNorm2d(out_channels)\n",
        "\n",
        "        self.shortcut = nn.Sequential()\n",
        "        if stride != 1 or in_channels != out_channels:\n",
        "            self.shortcut = nn.Sequential(\n",
        "                nn.Conv2d(in_channels, out_channels, kernel_size=1, stride=stride, bias=False),\n",
        "                nn.BatchNorm2d(out_channels)\n",
        "            )\n",
        "\n",
        "    def forward(self, x):\n",
        "        out = self.conv1(x)\n",
        "        out = self.bn1(out)\n",
        "        out = self.relu(out)\n",
        "        out = self.conv2(out)\n",
        "        out = self.bn2(out)\n",
        "        out += self.shortcut(x)\n",
        "        out = self.relu(out)\n",
        "        return out\n",
        "\n",
        "class ResNet18(nn.Module):\n",
        "    def __init__(self, num_classes=10):\n",
        "        super(ResNet18, self).__init__()\n",
        "        self.in_channels = 64\n",
        "        self.conv1 = nn.Conv2d(3, 64, kernel_size=3, stride=1, padding=1, bias=False)\n",
        "        self.bn1 = nn.BatchNorm2d(64)\n",
        "        self.relu = nn.ReLU(inplace=True)\n",
        "        self.maxpool = nn.MaxPool2d(kernel_size=3, stride=2, padding=1)\n",
        "\n",
        "        self.layer1 = self._make_layer(BasicBlock, 64, 2, stride=1)\n",
        "        self.layer2 = self._make_layer(BasicBlock, 128, 2, stride=2)\n",
        "        self.layer3 = self._make_layer(BasicBlock, 256, 2, stride=2)\n",
        "        self.layer4 = self._make_layer(BasicBlock, 512, 2, stride=2)\n",
        "\n",
        "        self.avgpool = nn.AdaptiveAvgPool2d((1, 1))\n",
        "        self.fc = nn.Linear(512, num_classes)\n",
        "\n",
        "    def _make_layer(self, block, out_channels, num_blocks, stride):\n",
        "        strides = [stride] + [1] * (num_blocks - 1)\n",
        "        layers = []\n",
        "        for stride in strides:\n",
        "            layers.append(block(self.in_channels, out_channels, stride))\n",
        "            self.in_channels = out_channels\n",
        "        return nn.Sequential(*layers)\n",
        "\n",
        "    def forward(self, x):\n",
        "        out = self.conv1(x)\n",
        "        out = self.bn1(out)\n",
        "        out = self.relu(out)\n",
        "        out = self.maxpool(out)\n",
        "\n",
        "        out = self.layer1(out)\n",
        "        out = self.layer2(out)\n",
        "        out = self.layer3(out)\n",
        "        out = self.layer4(out)\n",
        "\n",
        "        out = self.avgpool(out)\n",
        "        out = out.view(out.size(0), -1)\n",
        "        out = self.fc(out)\n",
        "        return out"
      ],
      "metadata": {
        "id": "du1Y_8YsCSny"
      },
      "execution_count": null,
      "outputs": []
    },
    {
      "cell_type": "code",
      "source": [
        "def fit(model, train_loader):\n",
        "  train_losses = []\n",
        "  train_accuracies = []\n",
        "\n",
        "  criterion = nn.CrossEntropyLoss()\n",
        "  optimizer = optim.SGD(model.parameters(), lr=0.001, momentum=0.9)\n",
        "  model.train()\n",
        "  for epoch in range(2):\n",
        "      running_loss = 0.0\n",
        "      correct = 0\n",
        "      total = 0\n",
        "      predicted=0\n",
        "      for i, data in enumerate(train_loader, 0):\n",
        "          inputs, labels = data\n",
        "          labels = labels.to(torch.float)\n",
        "          optimizer.zero_grad()\n",
        "          outputs = model(inputs)\n",
        "          loss = criterion(outputs, labels)\n",
        "          loss.backward()\n",
        "          optimizer.step()\n",
        "          running_loss += loss.item()\n",
        "          total += labels.size(0)\n",
        "\n",
        "          y_pred = np.array(outputs.data)\n",
        "          y_true = np.array(labels.data)\n",
        "\n",
        "          a=inputs.size()[0]\n",
        "          b=labels.size()[1]\n",
        "          for i in range(a):\n",
        "             max_el = 0.\n",
        "             indMaxEl=0\n",
        "             for j in range (b):\n",
        "               if(y_pred[i][j]>max_el):\n",
        "                 max_el = y_pred[i][j]\n",
        "                 indMaxEl=j\n",
        "             for j in range (b):\n",
        "               y_pred[i][j]=0.\n",
        "             y_pred[i][indMaxEl]=1.\n",
        "             if((y_pred[i]==y_true[i]).all()):\n",
        "               predicted+=1\n",
        "\n",
        "          #predicted = torch.max(outputs.data, 1)\n",
        "          #print(predicted)\n",
        "          # if (torch.all(predicted == labels)):\n",
        "          #     correct += 1\n",
        "          # else:\n",
        "          #     correct += 0\n",
        "\n",
        "      train_losses.append(running_loss / len(train_loader))\n",
        "      train_accuracies.append(predicted / total)\n",
        "      print(f'Epoch {epoch} loss: {running_loss / len(train_loader)}')\n",
        "  return train_losses, train_accuracies"
      ],
      "metadata": {
        "id": "s05fkYvvCi8R"
      },
      "execution_count": null,
      "outputs": []
    },
    {
      "cell_type": "code",
      "source": [
        "train_losses, train_accuracies = fit(ResNet18(), train_loader)\n",
        "plt.plot(train_losses, label=\"Потеря\")\n",
        "plt.plot(train_accuracies, label=\"Точность\")\n",
        "plt.xlabel(\"Эпоха\")\n",
        "plt.ylabel(\"Показатель\")\n",
        "plt.legend()\n",
        "plt.title(\"Кривые обучения\")\n",
        "plt.show()"
      ],
      "metadata": {
        "colab": {
          "base_uri": "https://localhost:8080/",
          "height": 509
        },
        "id": "oQR3sWBtpbFy",
        "outputId": "e552856b-b699-45ba-de1e-f8731959057a"
      },
      "execution_count": null,
      "outputs": [
        {
          "output_type": "stream",
          "name": "stdout",
          "text": [
            "Epoch 0 loss: 1.6255123283916388\n",
            "Epoch 1 loss: 1.1458115817639773\n"
          ]
        },
        {
          "output_type": "display_data",
          "data": {
            "text/plain": [
              "<Figure size 640x480 with 1 Axes>"
            ],
            "image/png": "[encoded data removed]"
          },
          "metadata": {}
        }
      ]
    },
    {
      "cell_type": "code",
      "source": [
        "def evalute(model, test_loader):\n",
        "  model.eval()\n",
        "  y_pred_all=[]\n",
        "  y_true_all=[]\n",
        "  for i, data in enumerate(test_loader, 0):\n",
        "      inputs, labels = data\n",
        "      outputs = model(inputs)\n",
        "\n",
        "      y_pred = np.array(outputs.data)\n",
        "      y_true = np.array(labels.data)\n",
        "\n",
        "      a=inputs.size()[0]\n",
        "      b=labels.size()[1]\n",
        "      for i in range(a):\n",
        "        max_el = 0.\n",
        "        indMaxEl=0\n",
        "        for j in range (b):\n",
        "          if(y_pred[i][j]>max_el):\n",
        "            max_el = y_pred[i][j]\n",
        "            indMaxEl=j\n",
        "        for j in range (b):\n",
        "          y_pred[i][j]=0.\n",
        "          y_pred[i][indMaxEl]=1.\n",
        "        # if((y_pred[i]==y_true[i]).all()):\n",
        "        #   predicted+=1\n",
        "      y_pred_all.extend(y_pred)\n",
        "      y_true_all.extend(y_true)\n",
        "  report = classification_report(y_true_all, y_pred_all)\n",
        "  return report"
      ],
      "metadata": {
        "id": "dPluoVtpukLV"
      },
      "execution_count": null,
      "outputs": []
    },
    {
      "cell_type": "code",
      "source": [
        "test_report = evalute(ResNet18(), test_loader)\n",
        "print(test_report)"
      ],
      "metadata": {
        "colab": {
          "base_uri": "https://localhost:8080/"
        },
        "collapsed": true,
        "id": "D7FA5Rv0vTT-",
        "outputId": "64ed71a8-de07-458b-ceef-875eb2683b8a"
      },
      "execution_count": null,
      "outputs": [
        {
          "output_type": "stream",
          "name": "stdout",
          "text": [
            "              precision    recall  f1-score   support\n",
            "\n",
            "           0       0.00      0.00      0.00      1000\n",
            "           1       0.09      0.78      0.16      1000\n",
            "           2       0.05      0.07      0.06      1000\n",
            "           3       0.14      0.03      0.05      1000\n",
            "           4       0.50      0.00      0.00      1000\n",
            "           5       0.00      0.00      0.00      1000\n",
            "           6       0.00      0.00      0.00      1000\n",
            "           7       0.00      0.00      0.00      1000\n",
            "           8       0.00      0.00      0.00      1000\n",
            "           9       0.00      0.00      0.00      1000\n",
            "\n",
            "   micro avg       0.09      0.09      0.09     10000\n",
            "   macro avg       0.08      0.09      0.03     10000\n",
            "weighted avg       0.08      0.09      0.03     10000\n",
            " samples avg       0.09      0.09      0.09     10000\n",
            "\n"
          ]
        },
        {
          "output_type": "stream",
          "name": "stderr",
          "text": [
            "/usr/local/lib/python3.10/dist-packages/sklearn/metrics/_classification.py:1531: UndefinedMetricWarning: Precision is ill-defined and being set to 0.0 in labels with no predicted samples. Use `zero_division` parameter to control this behavior.\n",
            "  _warn_prf(average, modifier, f\"{metric.capitalize()} is\", len(result))\n"
          ]
        }
      ]
    }
  ]
}